{
 "cells": [
  {
   "cell_type": "code",
   "execution_count": 2,
   "metadata": {},
   "outputs": [
    {
     "name": "stdout",
     "output_type": "stream",
     "text": [
      "        Intensity\n",
      "Angle            \n",
      "0.2025   179664.0\n",
      "0.2075   181193.0\n",
      "0.2125   185314.0\n",
      "0.2175   188447.0\n",
      "0.2225   193264.0\n",
      "...           ...\n",
      "7.9775        1.0\n",
      "7.9825        3.0\n",
      "7.9875        2.0\n",
      "7.9925        1.0\n",
      "7.9975        0.0\n",
      "\n",
      "[1560 rows x 1 columns]\n"
     ]
    }
   ],
   "source": [
    "import pandas as pd\n",
    "\n",
    "data = pd.read_csv(r'C:\\Users\\tmale\\OneDrive\\Documents\\Data\\LSMO\\Francie 2022\\XRR\\PLD4153_LSMONSSi_XRR_NoMono4520_f116.csv',index_col=0, skiprows=32)\n",
    "print(data)\n"
   ]
  }
 ],
 "metadata": {
  "kernelspec": {
   "display_name": "Python 3",
   "language": "python",
   "name": "python3"
  },
  "language_info": {
   "codemirror_mode": {
    "name": "ipython",
    "version": 3
   },
   "file_extension": ".py",
   "mimetype": "text/x-python",
   "name": "python",
   "nbconvert_exporter": "python",
   "pygments_lexer": "ipython3",
   "version": "3.11.0"
  },
  "orig_nbformat": 4,
  "vscode": {
   "interpreter": {
    "hash": "23326aa208655645b04b7e92438e6ced1fc1334c38a71410b0bec4af790806da"
   }
  }
 },
 "nbformat": 4,
 "nbformat_minor": 2
}
