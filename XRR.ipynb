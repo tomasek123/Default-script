{
 "cells": [
  {
   "cell_type": "code",
   "execution_count": 4,
   "metadata": {},
   "outputs": [],
   "source": [
    "import pandas as pd\n",
    "\n",
    "data = pd.read_csv(r'C:\\Users\\tmale\\OneDrive\\Documents\\Data\\LSMO\\Francie 2022\\XRR\\PLD4151_LSMONSSi_XRR_NoMono4520_f116.csv',index_col=0, skiprows=32)\n",
    "data['Intensity'] = data['Intensity']/data['Intensity'].max()\n",
    "# data.to_csv(r'C:\\Users\\tmale\\OneDrive\\Documents\\Data\\LSMO\\Francie 2022\\XRR\\Normalized\\PLD4151_LSMONSSi_XRR_NoMono4520_f116.csv')\n"
   ]
  }
 ],
 "metadata": {
  "kernelspec": {
   "display_name": "Python 3",
   "language": "python",
   "name": "python3"
  },
  "language_info": {
   "codemirror_mode": {
    "name": "ipython",
    "version": 3
   },
   "file_extension": ".py",
   "mimetype": "text/x-python",
   "name": "python",
   "nbconvert_exporter": "python",
   "pygments_lexer": "ipython3",
   "version": "3.11.0"
  },
  "orig_nbformat": 4,
  "vscode": {
   "interpreter": {
    "hash": "23326aa208655645b04b7e92438e6ced1fc1334c38a71410b0bec4af790806da"
   }
  }
 },
 "nbformat": 4,
 "nbformat_minor": 2
}
